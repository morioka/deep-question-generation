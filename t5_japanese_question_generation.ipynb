{
  "nbformat": 4,
  "nbformat_minor": 0,
  "metadata": {
    "colab": {
      "name": "t5_japanese_question_generation.ipynb",
      "provenance": [],
      "collapsed_sections": [],
      "toc_visible": true
    },
    "kernelspec": {
      "display_name": "Python 3",
      "name": "python3"
    },
    "widgets": {
      "application/vnd.jupyter.widget-state+json": {
        "daa6cfca955b4e1cb2a81dd4bc52623b": {
          "model_module": "@jupyter-widgets/controls",
          "model_name": "HBoxModel",
          "model_module_version": "1.5.0",
          "state": {
            "_dom_classes": [],
            "_model_module": "@jupyter-widgets/controls",
            "_model_module_version": "1.5.0",
            "_model_name": "HBoxModel",
            "_view_count": null,
            "_view_module": "@jupyter-widgets/controls",
            "_view_module_version": "1.5.0",
            "_view_name": "HBoxView",
            "box_style": "",
            "children": [
              "IPY_MODEL_d4a3b51e7e4f4c439e415f13483bf367",
              "IPY_MODEL_907dbd9b4a074602ade66cc1f98a8f68",
              "IPY_MODEL_0d335acfa85745fea1c9a2ae76b8ec39"
            ],
            "layout": "IPY_MODEL_c3b94619e16941498dd530149fa00cfb"
          }
        },
        "d4a3b51e7e4f4c439e415f13483bf367": {
          "model_module": "@jupyter-widgets/controls",
          "model_name": "HTMLModel",
          "model_module_version": "1.5.0",
          "state": {
            "_dom_classes": [],
            "_model_module": "@jupyter-widgets/controls",
            "_model_module_version": "1.5.0",
            "_model_name": "HTMLModel",
            "_view_count": null,
            "_view_module": "@jupyter-widgets/controls",
            "_view_module_version": "1.5.0",
            "_view_name": "HTMLView",
            "description": "",
            "description_tooltip": null,
            "layout": "IPY_MODEL_4dd6c3345be84cffbb8812ee40b42dcc",
            "placeholder": "​",
            "style": "IPY_MODEL_f591059394ce41c383c480dffcc9a4da",
            "value": "100%"
          }
        },
        "907dbd9b4a074602ade66cc1f98a8f68": {
          "model_module": "@jupyter-widgets/controls",
          "model_name": "FloatProgressModel",
          "model_module_version": "1.5.0",
          "state": {
            "_dom_classes": [],
            "_model_module": "@jupyter-widgets/controls",
            "_model_module_version": "1.5.0",
            "_model_name": "FloatProgressModel",
            "_view_count": null,
            "_view_module": "@jupyter-widgets/controls",
            "_view_module_version": "1.5.0",
            "_view_name": "ProgressView",
            "bar_style": "success",
            "description": "",
            "description_tooltip": null,
            "layout": "IPY_MODEL_004be2af814e4566b4a2e4a67ad2adbc",
            "max": 8,
            "min": 0,
            "orientation": "horizontal",
            "style": "IPY_MODEL_bb4b2bbe075c4194a5ce8fe60d60a896",
            "value": 8
          }
        },
        "0d335acfa85745fea1c9a2ae76b8ec39": {
          "model_module": "@jupyter-widgets/controls",
          "model_name": "HTMLModel",
          "model_module_version": "1.5.0",
          "state": {
            "_dom_classes": [],
            "_model_module": "@jupyter-widgets/controls",
            "_model_module_version": "1.5.0",
            "_model_name": "HTMLModel",
            "_view_count": null,
            "_view_module": "@jupyter-widgets/controls",
            "_view_module_version": "1.5.0",
            "_view_name": "HTMLView",
            "description": "",
            "description_tooltip": null,
            "layout": "IPY_MODEL_94dc0cca5f9d453f91ede9ef4da68eb0",
            "placeholder": "​",
            "style": "IPY_MODEL_a3769034982f4e7694ecfc90e57f430d",
            "value": " 8/8 [00:42&lt;00:00,  4.70s/it]"
          }
        },
        "c3b94619e16941498dd530149fa00cfb": {
          "model_module": "@jupyter-widgets/base",
          "model_name": "LayoutModel",
          "model_module_version": "1.2.0",
          "state": {
            "_model_module": "@jupyter-widgets/base",
            "_model_module_version": "1.2.0",
            "_model_name": "LayoutModel",
            "_view_count": null,
            "_view_module": "@jupyter-widgets/base",
            "_view_module_version": "1.2.0",
            "_view_name": "LayoutView",
            "align_content": null,
            "align_items": null,
            "align_self": null,
            "border": null,
            "bottom": null,
            "display": null,
            "flex": null,
            "flex_flow": null,
            "grid_area": null,
            "grid_auto_columns": null,
            "grid_auto_flow": null,
            "grid_auto_rows": null,
            "grid_column": null,
            "grid_gap": null,
            "grid_row": null,
            "grid_template_areas": null,
            "grid_template_columns": null,
            "grid_template_rows": null,
            "height": null,
            "justify_content": null,
            "justify_items": null,
            "left": null,
            "margin": null,
            "max_height": null,
            "max_width": null,
            "min_height": null,
            "min_width": null,
            "object_fit": null,
            "object_position": null,
            "order": null,
            "overflow": null,
            "overflow_x": null,
            "overflow_y": null,
            "padding": null,
            "right": null,
            "top": null,
            "visibility": null,
            "width": null
          }
        },
        "4dd6c3345be84cffbb8812ee40b42dcc": {
          "model_module": "@jupyter-widgets/base",
          "model_name": "LayoutModel",
          "model_module_version": "1.2.0",
          "state": {
            "_model_module": "@jupyter-widgets/base",
            "_model_module_version": "1.2.0",
            "_model_name": "LayoutModel",
            "_view_count": null,
            "_view_module": "@jupyter-widgets/base",
            "_view_module_version": "1.2.0",
            "_view_name": "LayoutView",
            "align_content": null,
            "align_items": null,
            "align_self": null,
            "border": null,
            "bottom": null,
            "display": null,
            "flex": null,
            "flex_flow": null,
            "grid_area": null,
            "grid_auto_columns": null,
            "grid_auto_flow": null,
            "grid_auto_rows": null,
            "grid_column": null,
            "grid_gap": null,
            "grid_row": null,
            "grid_template_areas": null,
            "grid_template_columns": null,
            "grid_template_rows": null,
            "height": null,
            "justify_content": null,
            "justify_items": null,
            "left": null,
            "margin": null,
            "max_height": null,
            "max_width": null,
            "min_height": null,
            "min_width": null,
            "object_fit": null,
            "object_position": null,
            "order": null,
            "overflow": null,
            "overflow_x": null,
            "overflow_y": null,
            "padding": null,
            "right": null,
            "top": null,
            "visibility": null,
            "width": null
          }
        },
        "f591059394ce41c383c480dffcc9a4da": {
          "model_module": "@jupyter-widgets/controls",
          "model_name": "DescriptionStyleModel",
          "model_module_version": "1.5.0",
          "state": {
            "_model_module": "@jupyter-widgets/controls",
            "_model_module_version": "1.5.0",
            "_model_name": "DescriptionStyleModel",
            "_view_count": null,
            "_view_module": "@jupyter-widgets/base",
            "_view_module_version": "1.2.0",
            "_view_name": "StyleView",
            "description_width": ""
          }
        },
        "004be2af814e4566b4a2e4a67ad2adbc": {
          "model_module": "@jupyter-widgets/base",
          "model_name": "LayoutModel",
          "model_module_version": "1.2.0",
          "state": {
            "_model_module": "@jupyter-widgets/base",
            "_model_module_version": "1.2.0",
            "_model_name": "LayoutModel",
            "_view_count": null,
            "_view_module": "@jupyter-widgets/base",
            "_view_module_version": "1.2.0",
            "_view_name": "LayoutView",
            "align_content": null,
            "align_items": null,
            "align_self": null,
            "border": null,
            "bottom": null,
            "display": null,
            "flex": null,
            "flex_flow": null,
            "grid_area": null,
            "grid_auto_columns": null,
            "grid_auto_flow": null,
            "grid_auto_rows": null,
            "grid_column": null,
            "grid_gap": null,
            "grid_row": null,
            "grid_template_areas": null,
            "grid_template_columns": null,
            "grid_template_rows": null,
            "height": null,
            "justify_content": null,
            "justify_items": null,
            "left": null,
            "margin": null,
            "max_height": null,
            "max_width": null,
            "min_height": null,
            "min_width": null,
            "object_fit": null,
            "object_position": null,
            "order": null,
            "overflow": null,
            "overflow_x": null,
            "overflow_y": null,
            "padding": null,
            "right": null,
            "top": null,
            "visibility": null,
            "width": null
          }
        },
        "bb4b2bbe075c4194a5ce8fe60d60a896": {
          "model_module": "@jupyter-widgets/controls",
          "model_name": "ProgressStyleModel",
          "model_module_version": "1.5.0",
          "state": {
            "_model_module": "@jupyter-widgets/controls",
            "_model_module_version": "1.5.0",
            "_model_name": "ProgressStyleModel",
            "_view_count": null,
            "_view_module": "@jupyter-widgets/base",
            "_view_module_version": "1.2.0",
            "_view_name": "StyleView",
            "bar_color": null,
            "description_width": ""
          }
        },
        "94dc0cca5f9d453f91ede9ef4da68eb0": {
          "model_module": "@jupyter-widgets/base",
          "model_name": "LayoutModel",
          "model_module_version": "1.2.0",
          "state": {
            "_model_module": "@jupyter-widgets/base",
            "_model_module_version": "1.2.0",
            "_model_name": "LayoutModel",
            "_view_count": null,
            "_view_module": "@jupyter-widgets/base",
            "_view_module_version": "1.2.0",
            "_view_name": "LayoutView",
            "align_content": null,
            "align_items": null,
            "align_self": null,
            "border": null,
            "bottom": null,
            "display": null,
            "flex": null,
            "flex_flow": null,
            "grid_area": null,
            "grid_auto_columns": null,
            "grid_auto_flow": null,
            "grid_auto_rows": null,
            "grid_column": null,
            "grid_gap": null,
            "grid_row": null,
            "grid_template_areas": null,
            "grid_template_columns": null,
            "grid_template_rows": null,
            "height": null,
            "justify_content": null,
            "justify_items": null,
            "left": null,
            "margin": null,
            "max_height": null,
            "max_width": null,
            "min_height": null,
            "min_width": null,
            "object_fit": null,
            "object_position": null,
            "order": null,
            "overflow": null,
            "overflow_x": null,
            "overflow_y": null,
            "padding": null,
            "right": null,
            "top": null,
            "visibility": null,
            "width": null
          }
        },
        "a3769034982f4e7694ecfc90e57f430d": {
          "model_module": "@jupyter-widgets/controls",
          "model_name": "DescriptionStyleModel",
          "model_module_version": "1.5.0",
          "state": {
            "_model_module": "@jupyter-widgets/controls",
            "_model_module_version": "1.5.0",
            "_model_name": "DescriptionStyleModel",
            "_view_count": null,
            "_view_module": "@jupyter-widgets/base",
            "_view_module_version": "1.2.0",
            "_view_name": "StyleView",
            "description_width": ""
          }
        },
        "d38ebd40c6d34a7ba1f90fe8c1fcab73": {
          "model_module": "@jupyter-widgets/controls",
          "model_name": "HBoxModel",
          "model_module_version": "1.5.0",
          "state": {
            "_dom_classes": [],
            "_model_module": "@jupyter-widgets/controls",
            "_model_module_version": "1.5.0",
            "_model_name": "HBoxModel",
            "_view_count": null,
            "_view_module": "@jupyter-widgets/controls",
            "_view_module_version": "1.5.0",
            "_view_name": "HBoxView",
            "box_style": "",
            "children": [
              "IPY_MODEL_dd44fa5749f945edb4f1f1084daa796e",
              "IPY_MODEL_88cdbcad4f8547e38b412cfb49808e0a",
              "IPY_MODEL_8e1e999aff9a465f8cce31dcac7fcbb7"
            ],
            "layout": "IPY_MODEL_ab8cb9c637ad4098bd6b1f685dbfe4b0"
          }
        },
        "dd44fa5749f945edb4f1f1084daa796e": {
          "model_module": "@jupyter-widgets/controls",
          "model_name": "HTMLModel",
          "model_module_version": "1.5.0",
          "state": {
            "_dom_classes": [],
            "_model_module": "@jupyter-widgets/controls",
            "_model_module_version": "1.5.0",
            "_model_name": "HTMLModel",
            "_view_count": null,
            "_view_module": "@jupyter-widgets/controls",
            "_view_module_version": "1.5.0",
            "_view_name": "HTMLView",
            "description": "",
            "description_tooltip": null,
            "layout": "IPY_MODEL_93579540d83548c3864b5cff116977b5",
            "placeholder": "​",
            "style": "IPY_MODEL_661ae6a8991c41b989169c03a8c0447d",
            "value": "100%"
          }
        },
        "88cdbcad4f8547e38b412cfb49808e0a": {
          "model_module": "@jupyter-widgets/controls",
          "model_name": "FloatProgressModel",
          "model_module_version": "1.5.0",
          "state": {
            "_dom_classes": [],
            "_model_module": "@jupyter-widgets/controls",
            "_model_module_version": "1.5.0",
            "_model_name": "FloatProgressModel",
            "_view_count": null,
            "_view_module": "@jupyter-widgets/controls",
            "_view_module_version": "1.5.0",
            "_view_name": "ProgressView",
            "bar_style": "success",
            "description": "",
            "description_tooltip": null,
            "layout": "IPY_MODEL_aad52460c182427e952a01c659db4587",
            "max": 8,
            "min": 0,
            "orientation": "horizontal",
            "style": "IPY_MODEL_3fb63975f08748cb9a4e08e7b8556e37",
            "value": 8
          }
        },
        "8e1e999aff9a465f8cce31dcac7fcbb7": {
          "model_module": "@jupyter-widgets/controls",
          "model_name": "HTMLModel",
          "model_module_version": "1.5.0",
          "state": {
            "_dom_classes": [],
            "_model_module": "@jupyter-widgets/controls",
            "_model_module_version": "1.5.0",
            "_model_name": "HTMLModel",
            "_view_count": null,
            "_view_module": "@jupyter-widgets/controls",
            "_view_module_version": "1.5.0",
            "_view_name": "HTMLView",
            "description": "",
            "description_tooltip": null,
            "layout": "IPY_MODEL_523b1f0c07fa4532ad3142ae891a06a1",
            "placeholder": "​",
            "style": "IPY_MODEL_f8b6c62971af40d9baf94019b7cf63ee",
            "value": " 8/8 [00:38&lt;00:00,  4.77s/it]"
          }
        },
        "ab8cb9c637ad4098bd6b1f685dbfe4b0": {
          "model_module": "@jupyter-widgets/base",
          "model_name": "LayoutModel",
          "model_module_version": "1.2.0",
          "state": {
            "_model_module": "@jupyter-widgets/base",
            "_model_module_version": "1.2.0",
            "_model_name": "LayoutModel",
            "_view_count": null,
            "_view_module": "@jupyter-widgets/base",
            "_view_module_version": "1.2.0",
            "_view_name": "LayoutView",
            "align_content": null,
            "align_items": null,
            "align_self": null,
            "border": null,
            "bottom": null,
            "display": null,
            "flex": null,
            "flex_flow": null,
            "grid_area": null,
            "grid_auto_columns": null,
            "grid_auto_flow": null,
            "grid_auto_rows": null,
            "grid_column": null,
            "grid_gap": null,
            "grid_row": null,
            "grid_template_areas": null,
            "grid_template_columns": null,
            "grid_template_rows": null,
            "height": null,
            "justify_content": null,
            "justify_items": null,
            "left": null,
            "margin": null,
            "max_height": null,
            "max_width": null,
            "min_height": null,
            "min_width": null,
            "object_fit": null,
            "object_position": null,
            "order": null,
            "overflow": null,
            "overflow_x": null,
            "overflow_y": null,
            "padding": null,
            "right": null,
            "top": null,
            "visibility": null,
            "width": null
          }
        },
        "93579540d83548c3864b5cff116977b5": {
          "model_module": "@jupyter-widgets/base",
          "model_name": "LayoutModel",
          "model_module_version": "1.2.0",
          "state": {
            "_model_module": "@jupyter-widgets/base",
            "_model_module_version": "1.2.0",
            "_model_name": "LayoutModel",
            "_view_count": null,
            "_view_module": "@jupyter-widgets/base",
            "_view_module_version": "1.2.0",
            "_view_name": "LayoutView",
            "align_content": null,
            "align_items": null,
            "align_self": null,
            "border": null,
            "bottom": null,
            "display": null,
            "flex": null,
            "flex_flow": null,
            "grid_area": null,
            "grid_auto_columns": null,
            "grid_auto_flow": null,
            "grid_auto_rows": null,
            "grid_column": null,
            "grid_gap": null,
            "grid_row": null,
            "grid_template_areas": null,
            "grid_template_columns": null,
            "grid_template_rows": null,
            "height": null,
            "justify_content": null,
            "justify_items": null,
            "left": null,
            "margin": null,
            "max_height": null,
            "max_width": null,
            "min_height": null,
            "min_width": null,
            "object_fit": null,
            "object_position": null,
            "order": null,
            "overflow": null,
            "overflow_x": null,
            "overflow_y": null,
            "padding": null,
            "right": null,
            "top": null,
            "visibility": null,
            "width": null
          }
        },
        "661ae6a8991c41b989169c03a8c0447d": {
          "model_module": "@jupyter-widgets/controls",
          "model_name": "DescriptionStyleModel",
          "model_module_version": "1.5.0",
          "state": {
            "_model_module": "@jupyter-widgets/controls",
            "_model_module_version": "1.5.0",
            "_model_name": "DescriptionStyleModel",
            "_view_count": null,
            "_view_module": "@jupyter-widgets/base",
            "_view_module_version": "1.2.0",
            "_view_name": "StyleView",
            "description_width": ""
          }
        },
        "aad52460c182427e952a01c659db4587": {
          "model_module": "@jupyter-widgets/base",
          "model_name": "LayoutModel",
          "model_module_version": "1.2.0",
          "state": {
            "_model_module": "@jupyter-widgets/base",
            "_model_module_version": "1.2.0",
            "_model_name": "LayoutModel",
            "_view_count": null,
            "_view_module": "@jupyter-widgets/base",
            "_view_module_version": "1.2.0",
            "_view_name": "LayoutView",
            "align_content": null,
            "align_items": null,
            "align_self": null,
            "border": null,
            "bottom": null,
            "display": null,
            "flex": null,
            "flex_flow": null,
            "grid_area": null,
            "grid_auto_columns": null,
            "grid_auto_flow": null,
            "grid_auto_rows": null,
            "grid_column": null,
            "grid_gap": null,
            "grid_row": null,
            "grid_template_areas": null,
            "grid_template_columns": null,
            "grid_template_rows": null,
            "height": null,
            "justify_content": null,
            "justify_items": null,
            "left": null,
            "margin": null,
            "max_height": null,
            "max_width": null,
            "min_height": null,
            "min_width": null,
            "object_fit": null,
            "object_position": null,
            "order": null,
            "overflow": null,
            "overflow_x": null,
            "overflow_y": null,
            "padding": null,
            "right": null,
            "top": null,
            "visibility": null,
            "width": null
          }
        },
        "3fb63975f08748cb9a4e08e7b8556e37": {
          "model_module": "@jupyter-widgets/controls",
          "model_name": "ProgressStyleModel",
          "model_module_version": "1.5.0",
          "state": {
            "_model_module": "@jupyter-widgets/controls",
            "_model_module_version": "1.5.0",
            "_model_name": "ProgressStyleModel",
            "_view_count": null,
            "_view_module": "@jupyter-widgets/base",
            "_view_module_version": "1.2.0",
            "_view_name": "StyleView",
            "bar_color": null,
            "description_width": ""
          }
        },
        "523b1f0c07fa4532ad3142ae891a06a1": {
          "model_module": "@jupyter-widgets/base",
          "model_name": "LayoutModel",
          "model_module_version": "1.2.0",
          "state": {
            "_model_module": "@jupyter-widgets/base",
            "_model_module_version": "1.2.0",
            "_model_name": "LayoutModel",
            "_view_count": null,
            "_view_module": "@jupyter-widgets/base",
            "_view_module_version": "1.2.0",
            "_view_name": "LayoutView",
            "align_content": null,
            "align_items": null,
            "align_self": null,
            "border": null,
            "bottom": null,
            "display": null,
            "flex": null,
            "flex_flow": null,
            "grid_area": null,
            "grid_auto_columns": null,
            "grid_auto_flow": null,
            "grid_auto_rows": null,
            "grid_column": null,
            "grid_gap": null,
            "grid_row": null,
            "grid_template_areas": null,
            "grid_template_columns": null,
            "grid_template_rows": null,
            "height": null,
            "justify_content": null,
            "justify_items": null,
            "left": null,
            "margin": null,
            "max_height": null,
            "max_width": null,
            "min_height": null,
            "min_width": null,
            "object_fit": null,
            "object_position": null,
            "order": null,
            "overflow": null,
            "overflow_x": null,
            "overflow_y": null,
            "padding": null,
            "right": null,
            "top": null,
            "visibility": null,
            "width": null
          }
        },
        "f8b6c62971af40d9baf94019b7cf63ee": {
          "model_module": "@jupyter-widgets/controls",
          "model_name": "DescriptionStyleModel",
          "model_module_version": "1.5.0",
          "state": {
            "_model_module": "@jupyter-widgets/controls",
            "_model_module_version": "1.5.0",
            "_model_name": "DescriptionStyleModel",
            "_view_count": null,
            "_view_module": "@jupyter-widgets/base",
            "_view_module_version": "1.2.0",
            "_view_name": "StyleView",
            "description_width": ""
          }
        }
      }
    }
  },
  "cells": [
    {
      "cell_type": "markdown",
      "metadata": {
        "id": "3ghvCiSQXNMk"
      },
      "source": [
        "# 深層学習モデルを用いたクイズの自動生成\n",
        "\n",
        "与えられた単語が答えとなる問題文を日本語T5モデルを用いて自動生成する。\n",
        "- 入力: 答えとなる単語と、答えが含まれているパラグラフ（例えば、Wikipediaの一つのパラグラフ）\n",
        "- 出力: 問題文"
      ]
    },
    {
      "cell_type": "markdown",
      "metadata": {
        "id": "hP-r2bTG2Asi"
      },
      "source": [
        "## ライブラリをインストールする。"
      ]
    },
    {
      "cell_type": "code",
      "metadata": {
        "id": "5JQI6sIAAR2T"
      },
      "source": [
        "!pip install -q transformers==4.4.2 sentencepiece"
      ],
      "execution_count": 1,
      "outputs": []
    },
    {
      "cell_type": "markdown",
      "metadata": {
        "id": "STvC3vs-10B9"
      },
      "source": [
        "## 学習済み日本語T5モデルを利用して問題文を生成する\n",
        "\n",
        "- T5（Text-to-Text Transfer Transformer）とは、機械翻訳や文書要約、質問回答、分類タスク（感情分析など）などの様々な自然言語処理タスクに転移学習させることができる深層学習モデルである。タスクの入出力をある種のテキスト形式で表現することにより、共通の事前学習モデルとロス関数、ハイパーパラメータを用いて転移学習させることができる。  \n",
        "今回は、問題文を生成するというタスクに転移学習させた学習済みの日本語T5モデルを利用する。\n",
        "- T5: https://ai.googleblog.com/2020/02/exploring-transfer-learning-with-t5.html\n",
        "- T5の日本語解説記事: https://www.ogis-ri.co.jp/otc/hiroba/technical/similar-document-search/part7.html\n",
        "- 問題文を生成する日本語T5モデル: https://huggingface.co/sonoisa/t5-base-japanese-question-generation"
      ]
    },
    {
      "cell_type": "markdown",
      "metadata": {
        "id": "EQw4Lm5w2EvP"
      },
      "source": [
        "## 問題文生成モデルを読み込む。"
      ]
    },
    {
      "cell_type": "code",
      "metadata": {
        "id": "8PO8IvJkZuII"
      },
      "source": [
        "import torch\n",
        "from transformers import T5ForConditionalGeneration, T5Tokenizer\n",
        "\n",
        "model_name_or_path = \"sonoisa/t5-base-japanese-question-generation\"\n",
        "\n",
        "model = T5ForConditionalGeneration.from_pretrained(model_name_or_path)\n",
        "model.eval()\n",
        "if torch.cuda.is_available():\n",
        "  model.cuda()\n",
        "\n",
        "tokenizer = T5Tokenizer.from_pretrained(model_name_or_path, is_fast=True)"
      ],
      "execution_count": 2,
      "outputs": []
    },
    {
      "cell_type": "markdown",
      "metadata": {
        "id": "Sm4ve5R13R2D"
      },
      "source": [
        "## 問題文を生成してみる。\n",
        "\n",
        "* **モデルの入力**: \"answer: *答えとなる単語* context: *答えが含まれているパラグラフ*\"という形式の文字列をSentencePieceを用いてトークナイズしたトークン列\n",
        "* **モデルの出力**: \"*問題文*\"のトークン列"
      ]
    },
    {
      "cell_type": "code",
      "metadata": {
        "id": "H7qyYdvrEm-9",
        "colab": {
          "base_uri": "https://localhost:8080/",
          "height": 142,
          "referenced_widgets": [
            "daa6cfca955b4e1cb2a81dd4bc52623b",
            "d4a3b51e7e4f4c439e415f13483bf367",
            "907dbd9b4a074602ade66cc1f98a8f68",
            "0d335acfa85745fea1c9a2ae76b8ec39",
            "c3b94619e16941498dd530149fa00cfb",
            "4dd6c3345be84cffbb8812ee40b42dcc",
            "f591059394ce41c383c480dffcc9a4da",
            "004be2af814e4566b4a2e4a67ad2adbc",
            "bb4b2bbe075c4194a5ce8fe60d60a896",
            "94dc0cca5f9d453f91ede9ef4da68eb0",
            "a3769034982f4e7694ecfc90e57f430d"
          ]
        },
        "outputId": "db17c623-5a15-4b82-b1cf-f542ac9022e2"
      },
      "source": [
        "from tqdm.auto import tqdm\n",
        "\n",
        "INPUT_MAX_LEN = 512  # モデルに入力されるトークン列の最大長。最大長を超えたトークンは切り捨てられる。\n",
        "OUTPUT_MAX_LEN = 64  # モデルから出力されるトークン列の最大長。最大長を超えないように文が生成されるはず。\n",
        "\n",
        "answer_context_list = []\n",
        "\n",
        "# 出典: https://ja.wikipedia.org/wiki/アマビエ\n",
        "context = \"アマビエ（歴史的仮名遣：アマビヱ）は、日本に伝わる半人半魚の妖怪。光輝く姿で海中から現れ、豊作や疫病などの予言をすると伝えられている。江戸時代後期の肥後国（現・熊本県）に現れたという。この話は挿図付きで瓦版に取り上げられ、遠く江戸にまで伝えられた。弘化3年4月中旬（1846年5月上旬）のこと、毎夜、海中に光る物体が出没していたため、役人が赴いたところ、それが姿を現した。姿形について言葉では書き留められていないが、挿図が添えられている。 その者は、役人に対して「私は海中に住むアマビエと申す者なり」と名乗り、「当年より6ヶ年の間は諸国で豊作が続くが疫病も流行する。私の姿を描いた絵を人々に早々に見せよ。」と予言めいたことを告げ、海の中へと帰って行った。年代が特定できる最古の例は、天保15年（1844年）の越後国（現・新潟県）に出現した「海彦（読みの推定：あまびこ）」を記述した瓦版（『坪川本』という。福井県立図書館所蔵）、その挿絵に描かれた海彦は、頭からいきなり3本の足が生えた（胴体のない）形状で、人間のような耳をし、目はまるく、口が突出している。その年中に日本人口の7割の死滅を予言し、その像の絵札による救済を忠告している。\"\n",
        "for answer in [\"アマビエ\", \"豊作や疫病など\", \"肥後国（現・熊本県）\", \"当年より6ヶ年\", \"私の姿を描いた絵\", \"天保15年（1844年）\", \"3本\", \"7割\"]:\n",
        "  answer_context_list.append((answer, context))\n",
        "\n",
        "generated_questions = []\n",
        "\n",
        "for answer, context in tqdm(answer_context_list):\n",
        "  # モデルに入力可能な形式に変換する。\n",
        "  input = f\"answer: {answer} context: {context}\"\n",
        "\n",
        "  # 入力文をトークナイズする。\n",
        "  tokenized_inputs = tokenizer.batch_encode_plus(\n",
        "      [input], max_length=INPUT_MAX_LEN, truncation=True, \n",
        "      padding=\"longest\", return_tensors=\"pt\")\n",
        "\n",
        "  input_ids = tokenized_inputs['input_ids']\n",
        "  input_mask = tokenized_inputs['attention_mask']\n",
        "  if torch.cuda.is_available():\n",
        "    input_ids = input_ids.cuda()\n",
        "    input_mask = input_mask.cuda()\n",
        "\n",
        "  # 問題文を生成する。\n",
        "  tokenized_outputs = model.generate(input_ids=input_ids, attention_mask=input_mask, \n",
        "    max_length=OUTPUT_MAX_LEN, return_dict_in_generate=True, decoder_start_token_id=0,\n",
        "    temperature=0.0,  # 生成にランダム性を入れる温度パラメータ\n",
        "    num_beams=4,  # ビームサーチの探索幅\n",
        "    # diversity_penalty=1.0,  # 生成結果の多様性を生み出すためのペナルティパラメータ\n",
        "    # num_beam_groups=4,  # ビームサーチのグループ\n",
        "    num_return_sequences=1,  # 生成する文の数\n",
        "    )\n",
        "\n",
        "  # 生成された問題文のトークン列を文字列に変換する。\n",
        "  outputs = [tokenizer.decode(ids, skip_special_tokens=True, clean_up_tokenization_spaces=False) \n",
        "    for ids in tokenized_outputs.sequences]\n",
        "\n",
        "  generated_questions.append(outputs)\n"
      ],
      "execution_count": 3,
      "outputs": [
        {
          "output_type": "display_data",
          "data": {
            "text/plain": [
              "  0%|          | 0/8 [00:00<?, ?it/s]"
            ],
            "application/vnd.jupyter.widget-view+json": {
              "version_major": 2,
              "version_minor": 0,
              "model_id": "daa6cfca955b4e1cb2a81dd4bc52623b"
            }
          },
          "metadata": {}
        },
        {
          "output_type": "stream",
          "name": "stderr",
          "text": [
            "/usr/local/lib/python3.7/dist-packages/transformers/generation_utils.py:1764: UserWarning: __floordiv__ is deprecated, and its behavior will change in a future version of pytorch. It currently rounds toward 0 (like the 'trunc' function NOT 'floor'). This results in incorrect rounding for negative values. To keep the current behavior, use torch.div(a, b, rounding_mode='trunc'), or for actual floor division, use torch.div(a, b, rounding_mode='floor').\n",
            "  next_indices = next_tokens // vocab_size\n",
            "/usr/local/lib/python3.7/dist-packages/transformers/generation_utils.py:1764: UserWarning: __floordiv__ is deprecated, and its behavior will change in a future version of pytorch. It currently rounds toward 0 (like the 'trunc' function NOT 'floor'). This results in incorrect rounding for negative values. To keep the current behavior, use torch.div(a, b, rounding_mode='trunc'), or for actual floor division, use torch.div(a, b, rounding_mode='floor').\n",
            "  next_indices = next_tokens // vocab_size\n"
          ]
        }
      ]
    },
    {
      "cell_type": "markdown",
      "metadata": {
        "id": "hhlAf7iK_Wid"
      },
      "source": [
        "## 生成結果を確認してみる。"
      ]
    },
    {
      "cell_type": "code",
      "metadata": {
        "id": "_4iFILD8h5d1",
        "colab": {
          "base_uri": "https://localhost:8080/"
        },
        "outputId": "5c10abc2-f0e9-48d1-b1d1-90a03d1bf3e1"
      },
      "source": [
        "import textwrap\n",
        "\n",
        "for (answer, context), questions in zip(answer_context_list, generated_questions):\n",
        "  print(f\"answer: {answer}\")\n",
        "  # print(\"\\n\".join(textwrap.wrap(f\"context: {context}\")))\n",
        "  for question in questions:\n",
        "    print(f\"  -> {question}\")\n",
        "  print()"
      ],
      "execution_count": 4,
      "outputs": [
        {
          "output_type": "stream",
          "name": "stdout",
          "text": [
            "answer: アマビエ\n",
            "  -> 半人半魚の妖怪の名前は何ですか?\n",
            "\n",
            "answer: 豊作や疫病など\n",
            "  -> アマビエは海中から何を予言すると言われていますか?\n",
            "\n",
            "answer: 肥後国（現・熊本県）\n",
            "  -> 江戸時代のどの国にアマビエが現れたのですか?\n",
            "\n",
            "answer: 当年より6ヶ年\n",
            "  -> 諸国で豊作が続くが疫病も流行するのはどのくらいの期間ですか?\n",
            "\n",
            "answer: 私の姿を描いた絵\n",
            "  -> 瓦版に描かれたアマビエの絵は何ですか?\n",
            "\n",
            "answer: 天保15年（1844年）\n",
            "  -> 海彦が初めて登場したのはいつですか?\n",
            "\n",
            "answer: 3本\n",
            "  -> 「海彦」には足がいくつありましたか?\n",
            "\n",
            "answer: 7割\n",
            "  -> 海彦は、その年の日本人口の何パーセントの死を予言したのだろうか\n",
            "\n"
          ]
        }
      ]
    },
    {
      "cell_type": "markdown",
      "source": [
        "## 出力に禁句を設定する (2022-09-09)\n",
        "\n",
        "see [Does the 'bad_words_ids' argument in the \"generate function\" works? · Issue #14206 · huggingface/transformers](https://github.com/huggingface/transformers/issues/14206)"
      ],
      "metadata": {
        "id": "uO60SM1AQmtz"
      }
    },
    {
      "cell_type": "code",
      "source": [
        "tokenizer(\"海彦\")"
      ],
      "metadata": {
        "id": "275mSsnDThhO",
        "outputId": "a65c8d16-41bf-4e25-b3d6-9d31195ec33b",
        "colab": {
          "base_uri": "https://localhost:8080/"
        }
      },
      "execution_count": 5,
      "outputs": [
        {
          "output_type": "execute_result",
          "data": {
            "text/plain": [
              "{'input_ids': [5, 288, 1233, 1], 'attention_mask': [1, 1, 1, 1]}"
            ]
          },
          "metadata": {},
          "execution_count": 5
        }
      ]
    },
    {
      "cell_type": "code",
      "metadata": {
        "id": "rwnUfboW-0zu",
        "outputId": "fde4d337-f4d4-46fe-bd0c-d5754702c936",
        "colab": {
          "base_uri": "https://localhost:8080/"
        }
      },
      "source": [
        "tokenizer(\"海彦\", add_special_tokens=False)"
      ],
      "execution_count": 6,
      "outputs": [
        {
          "output_type": "execute_result",
          "data": {
            "text/plain": [
              "{'input_ids': [5, 288, 1233], 'attention_mask': [1, 1, 1]}"
            ]
          },
          "metadata": {},
          "execution_count": 6
        }
      ]
    },
    {
      "cell_type": "code",
      "source": [
        "tokenizer(\"私の名前は海彦です。\", add_special_tokens=False)"
      ],
      "metadata": {
        "id": "Qb2YIWcsR0Nu",
        "outputId": "32ede3ff-105b-4b8d-e653-48a4e8058261",
        "colab": {
          "base_uri": "https://localhost:8080/"
        }
      },
      "execution_count": 7,
      "outputs": [
        {
          "output_type": "execute_result",
          "data": {
            "text/plain": [
              "{'input_ids': [5, 1251, 11295, 288, 1233, 876, 4], 'attention_mask': [1, 1, 1, 1, 1, 1, 1]}"
            ]
          },
          "metadata": {},
          "execution_count": 7
        }
      ]
    },
    {
      "cell_type": "code",
      "source": [
        "tokenizer(\"海彦\", add_special_tokens=False).input_ids[1:]"
      ],
      "metadata": {
        "id": "Xh-bXouhQ4LK",
        "outputId": "71f8b2fc-0f43-4e10-cad6-8fc4de02f3fd",
        "colab": {
          "base_uri": "https://localhost:8080/"
        }
      },
      "execution_count": 8,
      "outputs": [
        {
          "output_type": "execute_result",
          "data": {
            "text/plain": [
              "[288, 1233]"
            ]
          },
          "metadata": {},
          "execution_count": 8
        }
      ]
    },
    {
      "cell_type": "code",
      "source": [
        "tokenizer.decode([288, 1233]), tokenizer.decode([5, 288, 1233]), tokenizer.decode([1233, 288, 1233]), tokenizer.decode([1233, 5, 288, 1233])"
      ],
      "metadata": {
        "id": "tAQ0t_cpSsDy",
        "outputId": "c73d1a74-8968-4b7a-b227-aec097a0db73",
        "colab": {
          "base_uri": "https://localhost:8080/"
        }
      },
      "execution_count": 9,
      "outputs": [
        {
          "output_type": "execute_result",
          "data": {
            "text/plain": [
              "('海彦', '海彦', '彦海彦', '彦 海彦')"
            ]
          },
          "metadata": {},
          "execution_count": 9
        }
      ]
    },
    {
      "cell_type": "code",
      "source": [
        "from tqdm.auto import tqdm\n",
        "\n",
        "INPUT_MAX_LEN = 512  # モデルに入力されるトークン列の最大長。最大長を超えたトークンは切り捨てられる。\n",
        "OUTPUT_MAX_LEN = 64  # モデルから出力されるトークン列の最大長。最大長を超えないように文が生成されるはず。\n",
        "\n",
        "answer_context_list = []\n",
        "\n",
        "# 出典: https://ja.wikipedia.org/wiki/アマビエ\n",
        "context = \"アマビエ（歴史的仮名遣：アマビヱ）は、日本に伝わる半人半魚の妖怪。光輝く姿で海中から現れ、豊作や疫病などの予言をすると伝えられている。江戸時代後期の肥後国（現・熊本県）に現れたという。この話は挿図付きで瓦版に取り上げられ、遠く江戸にまで伝えられた。弘化3年4月中旬（1846年5月上旬）のこと、毎夜、海中に光る物体が出没していたため、役人が赴いたところ、それが姿を現した。姿形について言葉では書き留められていないが、挿図が添えられている。 その者は、役人に対して「私は海中に住むアマビエと申す者なり」と名乗り、「当年より6ヶ年の間は諸国で豊作が続くが疫病も流行する。私の姿を描いた絵を人々に早々に見せよ。」と予言めいたことを告げ、海の中へと帰って行った。年代が特定できる最古の例は、天保15年（1844年）の越後国（現・新潟県）に出現した「海彦（読みの推定：あまびこ）」を記述した瓦版（『坪川本』という。福井県立図書館所蔵）、その挿絵に描かれた海彦は、頭からいきなり3本の足が生えた（胴体のない）形状で、人間のような耳をし、目はまるく、口が突出している。その年中に日本人口の7割の死滅を予言し、その像の絵札による救済を忠告している。\"\n",
        "for answer in [\"アマビエ\", \"豊作や疫病など\", \"肥後国（現・熊本県）\", \"当年より6ヶ年\", \"私の姿を描いた絵\", \"天保15年（1844年）\", \"3本\", \"7割\"]:\n",
        "  answer_context_list.append((answer, context))\n",
        "\n",
        "generated_questions = []\n",
        "\n",
        "for answer, context in tqdm(answer_context_list):\n",
        "  # モデルに入力可能な形式に変換する。\n",
        "  input = f\"answer: {answer} context: {context}\"\n",
        "\n",
        "  # 入力文をトークナイズする。\n",
        "  tokenized_inputs = tokenizer.batch_encode_plus(\n",
        "      [input], max_length=INPUT_MAX_LEN, truncation=True, \n",
        "      padding=\"longest\", return_tensors=\"pt\")\n",
        "\n",
        "  input_ids = tokenized_inputs['input_ids']\n",
        "  input_mask = tokenized_inputs['attention_mask']\n",
        "  if torch.cuda.is_available():\n",
        "    input_ids = input_ids.cuda()\n",
        "    input_mask = input_mask.cuda()\n",
        "\n",
        "  # 禁句対応 2022-09-09\n",
        "  bad_words = [\"海彦\", \"アマビエ\"]  # 禁句リスト\n",
        "  # 禁句のトークン列を得る。禁句のトークン列はBPEのために禁句前後のトークンの影響を受けやすいのだろう。先頭トークンを捨てる。\n",
        "  # それとも特殊トークンが先行しているだけか?\n",
        "  bad_words_ids = [tokenizer(bad_word, add_special_tokens=False).input_ids[1:] for bad_word in bad_words ]\n",
        "  # 長さ0のトークン列を捨てる\n",
        "  bad_words_ids = [bad_word_ids for bad_word_ids in bad_words_ids if len(bad_word_ids) > 0]\n",
        "  # 禁句トークン列のリストが空ならNone\n",
        "  if len(bad_words_ids) == 0:\n",
        "    bad_words_ids = None\n",
        "\n",
        "  # 問題文を生成する。\n",
        "  tokenized_outputs = model.generate(input_ids=input_ids, attention_mask=input_mask, \n",
        "    max_length=OUTPUT_MAX_LEN, return_dict_in_generate=True, decoder_start_token_id=0,\n",
        "    temperature=0.0,  # 生成にランダム性を入れる温度パラメータ\n",
        "    num_beams=4,  # ビームサーチの探索幅\n",
        "    # diversity_penalty=1.0,  # 生成結果の多様性を生み出すためのペナルティパラメータ\n",
        "    # num_beam_groups=4,  # ビームサーチのグループ\n",
        "    num_return_sequences=1,  # 生成する文の数\n",
        "    bad_words_ids=bad_words_ids\n",
        "    )\n",
        "\n",
        "  # 生成された問題文のトークン列を文字列に変換する。\n",
        "  outputs = [tokenizer.decode(ids, skip_special_tokens=True, clean_up_tokenization_spaces=False) \n",
        "    for ids in tokenized_outputs.sequences]\n",
        "\n",
        "  generated_questions.append(outputs)\n"
      ],
      "metadata": {
        "id": "9gSl4shqRCVE",
        "outputId": "537d69a6-ab47-4151-eeb4-342a4397647e",
        "colab": {
          "base_uri": "https://localhost:8080/",
          "height": 49,
          "referenced_widgets": [
            "d38ebd40c6d34a7ba1f90fe8c1fcab73",
            "dd44fa5749f945edb4f1f1084daa796e",
            "88cdbcad4f8547e38b412cfb49808e0a",
            "8e1e999aff9a465f8cce31dcac7fcbb7",
            "ab8cb9c637ad4098bd6b1f685dbfe4b0",
            "93579540d83548c3864b5cff116977b5",
            "661ae6a8991c41b989169c03a8c0447d",
            "aad52460c182427e952a01c659db4587",
            "3fb63975f08748cb9a4e08e7b8556e37",
            "523b1f0c07fa4532ad3142ae891a06a1",
            "f8b6c62971af40d9baf94019b7cf63ee"
          ]
        }
      },
      "execution_count": 10,
      "outputs": [
        {
          "output_type": "display_data",
          "data": {
            "text/plain": [
              "  0%|          | 0/8 [00:00<?, ?it/s]"
            ],
            "application/vnd.jupyter.widget-view+json": {
              "version_major": 2,
              "version_minor": 0,
              "model_id": "d38ebd40c6d34a7ba1f90fe8c1fcab73"
            }
          },
          "metadata": {}
        }
      ]
    },
    {
      "cell_type": "code",
      "source": [
        "import textwrap\n",
        "\n",
        "for (answer, context), questions in zip(answer_context_list, generated_questions):\n",
        "  print(f\"answer: {answer}\")\n",
        "  # print(\"\\n\".join(textwrap.wrap(f\"context: {context}\")))\n",
        "  for question in questions:\n",
        "    print(f\"  -> {question}\")\n",
        "  print()"
      ],
      "metadata": {
        "id": "2cSyxA_eRF7k",
        "outputId": "51259d86-1a9f-4fcd-cfd2-2b9ac9218ffb",
        "colab": {
          "base_uri": "https://localhost:8080/"
        }
      },
      "execution_count": 11,
      "outputs": [
        {
          "output_type": "stream",
          "name": "stdout",
          "text": [
            "answer: アマビエ\n",
            "  -> 半人半魚の妖怪の名前は何ですか?\n",
            "\n",
            "answer: 豊作や疫病など\n",
            "  -> あまびえは海中から現れ、何を予言すると言われていますか?\n",
            "\n",
            "answer: 肥後国（現・熊本県）\n",
            "  -> 江戸時代後期にはどの国にあまびえがいたのですか?\n",
            "\n",
            "answer: 当年より6ヶ年\n",
            "  -> 農作物の豊作はどのくらい続きますか?\n",
            "\n",
            "answer: 私の姿を描いた絵\n",
            "  -> 瓦版には何が描かれていたのですか?\n",
            "\n",
            "answer: 天保15年（1844年）\n",
            "  -> 現代の古文書で最も古いものはいつですか?\n",
            "\n",
            "answer: 3本\n",
            "  -> あまびこは、頭から足がいくつ生えているのですか?\n",
            "\n",
            "answer: 7割\n",
            "  -> あまびこは、その年の日本人口の何割の死を予言したのですか?\n",
            "\n"
          ]
        }
      ]
    },
    {
      "cell_type": "code",
      "source": [],
      "metadata": {
        "id": "zWqBak45UIlX"
      },
      "execution_count": 11,
      "outputs": []
    }
  ]
}