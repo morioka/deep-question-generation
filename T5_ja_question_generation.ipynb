{
  "nbformat": 4,
  "nbformat_minor": 0,
  "metadata": {
    "colab": {
      "name": "T5_ja-question-generation.ipynb",
      "provenance": [],
      "collapsed_sections": []
    },
    "kernelspec": {
      "display_name": "Python 3",
      "name": "python3"
    },
    "widgets": {
      "application/vnd.jupyter.widget-state+json": {
        "437254f7c3994a59a18ff3873e35520e": {
          "model_module": "@jupyter-widgets/controls",
          "model_name": "HBoxModel",
          "state": {
            "_view_name": "HBoxView",
            "_dom_classes": [],
            "_model_name": "HBoxModel",
            "_view_module": "@jupyter-widgets/controls",
            "_model_module_version": "1.5.0",
            "_view_count": null,
            "_view_module_version": "1.5.0",
            "box_style": "",
            "layout": "IPY_MODEL_cf833f232d054c9f9ed8c4074f5c728b",
            "_model_module": "@jupyter-widgets/controls",
            "children": [
              "IPY_MODEL_f40cf4fb33654809834cde1103b4bf18",
              "IPY_MODEL_812de613d87548c29e8e0dc46ca10cb6"
            ]
          }
        },
        "cf833f232d054c9f9ed8c4074f5c728b": {
          "model_module": "@jupyter-widgets/base",
          "model_name": "LayoutModel",
          "state": {
            "_view_name": "LayoutView",
            "grid_template_rows": null,
            "right": null,
            "justify_content": null,
            "_view_module": "@jupyter-widgets/base",
            "overflow": null,
            "_model_module_version": "1.2.0",
            "_view_count": null,
            "flex_flow": null,
            "width": null,
            "min_width": null,
            "border": null,
            "align_items": null,
            "bottom": null,
            "_model_module": "@jupyter-widgets/base",
            "top": null,
            "grid_column": null,
            "overflow_y": null,
            "overflow_x": null,
            "grid_auto_flow": null,
            "grid_area": null,
            "grid_template_columns": null,
            "flex": null,
            "_model_name": "LayoutModel",
            "justify_items": null,
            "grid_row": null,
            "max_height": null,
            "align_content": null,
            "visibility": null,
            "align_self": null,
            "height": null,
            "min_height": null,
            "padding": null,
            "grid_auto_rows": null,
            "grid_gap": null,
            "max_width": null,
            "order": null,
            "_view_module_version": "1.2.0",
            "grid_template_areas": null,
            "object_position": null,
            "object_fit": null,
            "grid_auto_columns": null,
            "margin": null,
            "display": null,
            "left": null
          }
        },
        "f40cf4fb33654809834cde1103b4bf18": {
          "model_module": "@jupyter-widgets/controls",
          "model_name": "FloatProgressModel",
          "state": {
            "_view_name": "ProgressView",
            "style": "IPY_MODEL_0c11841f8f8b4a0d85e3402339da0a0a",
            "_dom_classes": [],
            "description": "100%",
            "_model_name": "FloatProgressModel",
            "bar_style": "success",
            "max": 8,
            "_view_module": "@jupyter-widgets/controls",
            "_model_module_version": "1.5.0",
            "value": 8,
            "_view_count": null,
            "_view_module_version": "1.5.0",
            "orientation": "horizontal",
            "min": 0,
            "description_tooltip": null,
            "_model_module": "@jupyter-widgets/controls",
            "layout": "IPY_MODEL_666518ac88f44c22800bb5a5b1b82560"
          }
        },
        "812de613d87548c29e8e0dc46ca10cb6": {
          "model_module": "@jupyter-widgets/controls",
          "model_name": "HTMLModel",
          "state": {
            "_view_name": "HTMLView",
            "style": "IPY_MODEL_69f41a23d2a4411a89d0d04079a00414",
            "_dom_classes": [],
            "description": "",
            "_model_name": "HTMLModel",
            "placeholder": "​",
            "_view_module": "@jupyter-widgets/controls",
            "_model_module_version": "1.5.0",
            "value": " 8/8 [00:04&lt;00:00,  1.63it/s]",
            "_view_count": null,
            "_view_module_version": "1.5.0",
            "description_tooltip": null,
            "_model_module": "@jupyter-widgets/controls",
            "layout": "IPY_MODEL_4c7497715ffd48d0ac3fc85cfaa68844"
          }
        },
        "0c11841f8f8b4a0d85e3402339da0a0a": {
          "model_module": "@jupyter-widgets/controls",
          "model_name": "ProgressStyleModel",
          "state": {
            "_view_name": "StyleView",
            "_model_name": "ProgressStyleModel",
            "description_width": "initial",
            "_view_module": "@jupyter-widgets/base",
            "_model_module_version": "1.5.0",
            "_view_count": null,
            "_view_module_version": "1.2.0",
            "bar_color": null,
            "_model_module": "@jupyter-widgets/controls"
          }
        },
        "666518ac88f44c22800bb5a5b1b82560": {
          "model_module": "@jupyter-widgets/base",
          "model_name": "LayoutModel",
          "state": {
            "_view_name": "LayoutView",
            "grid_template_rows": null,
            "right": null,
            "justify_content": null,
            "_view_module": "@jupyter-widgets/base",
            "overflow": null,
            "_model_module_version": "1.2.0",
            "_view_count": null,
            "flex_flow": null,
            "width": null,
            "min_width": null,
            "border": null,
            "align_items": null,
            "bottom": null,
            "_model_module": "@jupyter-widgets/base",
            "top": null,
            "grid_column": null,
            "overflow_y": null,
            "overflow_x": null,
            "grid_auto_flow": null,
            "grid_area": null,
            "grid_template_columns": null,
            "flex": null,
            "_model_name": "LayoutModel",
            "justify_items": null,
            "grid_row": null,
            "max_height": null,
            "align_content": null,
            "visibility": null,
            "align_self": null,
            "height": null,
            "min_height": null,
            "padding": null,
            "grid_auto_rows": null,
            "grid_gap": null,
            "max_width": null,
            "order": null,
            "_view_module_version": "1.2.0",
            "grid_template_areas": null,
            "object_position": null,
            "object_fit": null,
            "grid_auto_columns": null,
            "margin": null,
            "display": null,
            "left": null
          }
        },
        "69f41a23d2a4411a89d0d04079a00414": {
          "model_module": "@jupyter-widgets/controls",
          "model_name": "DescriptionStyleModel",
          "state": {
            "_view_name": "StyleView",
            "_model_name": "DescriptionStyleModel",
            "description_width": "",
            "_view_module": "@jupyter-widgets/base",
            "_model_module_version": "1.5.0",
            "_view_count": null,
            "_view_module_version": "1.2.0",
            "_model_module": "@jupyter-widgets/controls"
          }
        },
        "4c7497715ffd48d0ac3fc85cfaa68844": {
          "model_module": "@jupyter-widgets/base",
          "model_name": "LayoutModel",
          "state": {
            "_view_name": "LayoutView",
            "grid_template_rows": null,
            "right": null,
            "justify_content": null,
            "_view_module": "@jupyter-widgets/base",
            "overflow": null,
            "_model_module_version": "1.2.0",
            "_view_count": null,
            "flex_flow": null,
            "width": null,
            "min_width": null,
            "border": null,
            "align_items": null,
            "bottom": null,
            "_model_module": "@jupyter-widgets/base",
            "top": null,
            "grid_column": null,
            "overflow_y": null,
            "overflow_x": null,
            "grid_auto_flow": null,
            "grid_area": null,
            "grid_template_columns": null,
            "flex": null,
            "_model_name": "LayoutModel",
            "justify_items": null,
            "grid_row": null,
            "max_height": null,
            "align_content": null,
            "visibility": null,
            "align_self": null,
            "height": null,
            "min_height": null,
            "padding": null,
            "grid_auto_rows": null,
            "grid_gap": null,
            "max_width": null,
            "order": null,
            "_view_module_version": "1.2.0",
            "grid_template_areas": null,
            "object_position": null,
            "object_fit": null,
            "grid_auto_columns": null,
            "margin": null,
            "display": null,
            "left": null
          }
        }
      }
    }
  },
  "cells": [
    {
      "cell_type": "markdown",
      "metadata": {
        "id": "3ghvCiSQXNMk"
      },
      "source": [
        "# 深層学習モデルを用いたクイズの自動生成\n",
        "\n",
        "与えられた単語が答えとなる問題文を日本語T5モデルを用いて自動生成する。\n",
        "- 入力: 答えとなる単語と、答えが含まれているパラグラフ（例えば、Wikipediaの一つのパラグラフ）\n",
        "- 出力: 問題文"
      ]
    },
    {
      "cell_type": "markdown",
      "metadata": {
        "id": "hP-r2bTG2Asi"
      },
      "source": [
        "## ライブラリをインストールする。"
      ]
    },
    {
      "cell_type": "code",
      "metadata": {
        "id": "5JQI6sIAAR2T",
        "colab": {
          "base_uri": "https://localhost:8080/"
        },
        "outputId": "ae111f31-1d9f-4526-c622-7b81365cff33"
      },
      "source": [
        "!pip install -q transformers==4.2.2 sentencepiece"
      ],
      "execution_count": 1,
      "outputs": [
        {
          "output_type": "stream",
          "text": [
            "\u001b[K     |████████████████████████████████| 1.8MB 5.7MB/s \n",
            "\u001b[K     |████████████████████████████████| 1.2MB 45.5MB/s \n",
            "\u001b[K     |████████████████████████████████| 2.9MB 52.7MB/s \n",
            "\u001b[K     |████████████████████████████████| 890kB 48.2MB/s \n",
            "\u001b[?25h  Building wheel for sacremoses (setup.py) ... \u001b[?25l\u001b[?25hdone\n"
          ],
          "name": "stdout"
        }
      ]
    },
    {
      "cell_type": "markdown",
      "metadata": {
        "id": "STvC3vs-10B9"
      },
      "source": [
        "## 問題文を生成する日本語T5モデルをダウンロードする。\n",
        "\n",
        "- T5（Text-to-Text Transfer Transformer）とは、機械翻訳や文書要約、質問回答、分類タスク（感情分析など）などの様々な自然言語処理タスクに転移学習させることができる深層学習モデルである。タスクの入出力をある種のテキスト形式で表現することにより、共通の事前学習モデルとロス関数、ハイパーパラメータを用いて転移学習させることができる。  \n",
        "今回は、問題文を生成するというタスクに転移学習させた学習済みの日本語T5モデルを利用する。\n",
        "- T5: https://ai.googleblog.com/2020/02/exploring-transfer-learning-with-t5.html\n",
        "- T5の日本語解説記事: https://www.ogis-ri.co.jp/otc/hiroba/technical/similar-document-search/part7.html"
      ]
    },
    {
      "cell_type": "code",
      "metadata": {
        "colab": {
          "base_uri": "https://localhost:8080/"
        },
        "id": "AblFzaONxZXu",
        "outputId": "1f3a24d4-c6ef-4041-8ae2-7bcc9089f494"
      },
      "source": [
        "!wget -O t5_ja_model.tar \"https://www.floydhub.com/api/v1/resources/yiPUmpyQSad2P2VRAxHThc?content=true&download=true&rename=sonobe-datasets-t5_ja_model-1\""
      ],
      "execution_count": 2,
      "outputs": [
        {
          "output_type": "stream",
          "text": [
            "--2021-03-07 07:49:17--  https://www.floydhub.com/api/v1/resources/yiPUmpyQSad2P2VRAxHThc?content=true&download=true&rename=sonobe-datasets-t5_ja_model-1\n",
            "Resolving www.floydhub.com (www.floydhub.com)... 104.26.1.30, 104.26.0.30, 172.67.72.144, ...\n",
            "Connecting to www.floydhub.com (www.floydhub.com)|104.26.1.30|:443... connected.\n",
            "HTTP request sent, awaiting response... 200 OK\n",
            "Length: unspecified [application/tar]\n",
            "Saving to: ‘t5_ja_model.tar’\n",
            "\n",
            "t5_ja_model.tar         [   <=>              ] 851.19M  39.5MB/s    in 22s     \n",
            "\n",
            "2021-03-07 07:49:39 (39.0 MB/s) - ‘t5_ja_model.tar’ saved [892542464]\n",
            "\n"
          ],
          "name": "stdout"
        }
      ]
    },
    {
      "cell_type": "code",
      "metadata": {
        "colab": {
          "base_uri": "https://localhost:8080/"
        },
        "id": "GNtvqo7l2GcC",
        "outputId": "b64a5ddf-92c3-4530-91a9-38889379ce74"
      },
      "source": [
        "!mkdir -p model\n",
        "!tar xvf t5_ja_model.tar -C model/"
      ],
      "execution_count": 3,
      "outputs": [
        {
          "output_type": "stream",
          "text": [
            "./\n",
            "./config.json\n",
            "./pytorch_model.bin\n",
            "./spiece.model\n"
          ],
          "name": "stdout"
        }
      ]
    },
    {
      "cell_type": "markdown",
      "metadata": {
        "id": "EQw4Lm5w2EvP"
      },
      "source": [
        "## 問題文生成モデルを読み込む。"
      ]
    },
    {
      "cell_type": "code",
      "metadata": {
        "id": "8PO8IvJkZuII"
      },
      "source": [
        "import torch\n",
        "from transformers import T5ForConditionalGeneration, T5Tokenizer\n",
        "\n",
        "model_name_or_path = \"/content/model/\"\n",
        "\n",
        "model = T5ForConditionalGeneration.from_pretrained(model_name_or_path)\n",
        "model.eval()\n",
        "if torch.cuda.is_available():\n",
        "  model.cuda()\n",
        "\n",
        "tokenizer = T5Tokenizer.from_pretrained(model_name_or_path, is_fast=True)"
      ],
      "execution_count": 4,
      "outputs": []
    },
    {
      "cell_type": "markdown",
      "metadata": {
        "id": "Sm4ve5R13R2D"
      },
      "source": [
        "## 問題文を生成してみる。\n",
        "\n",
        "* **モデルの入力**: \"answer: *答えとなる単語* context: *答えが含まれているパラグラフ*\"という形式の文字列をSentencePieceを用いてトークナイズしたトークン列\n",
        "* **モデルの出力**: \"*問題文*\"のトークン列"
      ]
    },
    {
      "cell_type": "code",
      "metadata": {
        "id": "H7qyYdvrEm-9",
        "colab": {
          "base_uri": "https://localhost:8080/",
          "height": 66,
          "referenced_widgets": [
            "437254f7c3994a59a18ff3873e35520e",
            "cf833f232d054c9f9ed8c4074f5c728b",
            "f40cf4fb33654809834cde1103b4bf18",
            "812de613d87548c29e8e0dc46ca10cb6",
            "0c11841f8f8b4a0d85e3402339da0a0a",
            "666518ac88f44c22800bb5a5b1b82560",
            "69f41a23d2a4411a89d0d04079a00414",
            "4c7497715ffd48d0ac3fc85cfaa68844"
          ]
        },
        "outputId": "5cffc9f0-84a9-408c-ceee-4315bfd08f10"
      },
      "source": [
        "from tqdm.auto import tqdm\n",
        "\n",
        "INPUT_MAX_LEN = 512  # モデルに入力されるトークン列の最大長。最大長を超えたトークンは切り捨てられる。\n",
        "OUTPUT_MAX_LEN = 64  # モデルから出力されるトークン列の最大長。最大長を超えないように文が生成されるはず。\n",
        "\n",
        "answer_context_list = []\n",
        "\n",
        "# 出典: https://ja.wikipedia.org/wiki/アマビエ\n",
        "context = \"アマビエ（歴史的仮名遣：アマビヱ）は、日本に伝わる半人半魚の妖怪。光輝く姿で海中から現れ、豊作や疫病などの予言をすると伝えられている。江戸時代後期の肥後国（現・熊本県）に現れたという。この話は挿図付きで瓦版に取り上げられ、遠く江戸にまで伝えられた。弘化3年4月中旬（1846年5月上旬）のこと、毎夜、海中に光る物体が出没していたため、役人が赴いたところ、それが姿を現した。姿形について言葉では書き留められていないが、挿図が添えられている。 その者は、役人に対して「私は海中に住むアマビエと申す者なり」と名乗り、「当年より6ヶ年の間は諸国で豊作が続くが疫病も流行する。私の姿を描いた絵を人々に早々に見せよ。」と予言めいたことを告げ、海の中へと帰って行った。年代が特定できる最古の例は、天保15年（1844年）の越後国（現・新潟県）に出現した「海彦（読みの推定：あまびこ）」を記述した瓦版（『坪川本』という。福井県立図書館所蔵）、その挿絵に描かれた海彦は、頭からいきなり3本の足が生えた（胴体のない）形状で、人間のような耳をし、目はまるく、口が突出している。その年中に日本人口の7割の死滅を予言し、その像の絵札による救済を忠告している。\"\n",
        "for answer in [\"アマビエ\", \"豊作や疫病など\", \"肥後国（現・熊本県）\", \"当年より6ヶ年\", \"私の姿を描いた絵\", \"天保15年（1844年）\", \"3本\", \"7割\"]:\n",
        "  answer_context_list.append((answer, context))\n",
        "\n",
        "generated_questions = []\n",
        "\n",
        "for answer, context in tqdm(answer_context_list):\n",
        "  # モデルに入力可能な形式に変換する。\n",
        "  input = f\"answer: {answer} context: {context}\"\n",
        "\n",
        "  # 入力文をトークナイズする。\n",
        "  tokenized_inputs = tokenizer.batch_encode_plus(\n",
        "      [input], max_length=INPUT_MAX_LEN, truncation=True, \n",
        "      padding=\"longest\", return_tensors=\"pt\")\n",
        "\n",
        "  input_ids = tokenized_inputs['input_ids']\n",
        "  input_mask = tokenized_inputs['attention_mask']\n",
        "  if torch.cuda.is_available():\n",
        "    input_ids = input_ids.cuda()\n",
        "    input_mask = input_mask.cuda()\n",
        "\n",
        "  # 問題文を生成する。\n",
        "  tokenized_outputs = model.generate(input_ids=input_ids, attention_mask=input_mask, \n",
        "    max_length=OUTPUT_MAX_LEN, return_dict_in_generate=True, decoder_start_token_id=0,\n",
        "    temperature=0.0,  # 生成にランダム性を入れる温度パラメータ\n",
        "    num_beams=4,  # ビームサーチの探索幅\n",
        "    # diversity_penalty=1.0,  # 生成結果の多様性を生み出すためのペナルティパラメータ\n",
        "    # num_beam_groups=4,  # ビームサーチのグループ\n",
        "    num_return_sequences=1,  # 生成する文の数\n",
        "    )\n",
        "\n",
        "  # 生成された問題文のトークン列を文字列に変換する。\n",
        "  outputs = [tokenizer.decode(ids, skip_special_tokens=True, clean_up_tokenization_spaces=False) \n",
        "    for ids in tokenized_outputs.sequences]\n",
        "\n",
        "  generated_questions.append(outputs)\n"
      ],
      "execution_count": 5,
      "outputs": [
        {
          "output_type": "display_data",
          "data": {
            "application/vnd.jupyter.widget-view+json": {
              "model_id": "437254f7c3994a59a18ff3873e35520e",
              "version_minor": 0,
              "version_major": 2
            },
            "text/plain": [
              "HBox(children=(FloatProgress(value=0.0, max=8.0), HTML(value='')))"
            ]
          },
          "metadata": {
            "tags": []
          }
        },
        {
          "output_type": "stream",
          "text": [
            "\n"
          ],
          "name": "stdout"
        }
      ]
    },
    {
      "cell_type": "code",
      "metadata": {
        "colab": {
          "base_uri": "https://localhost:8080/"
        },
        "id": "DF6cVqxjhJxI",
        "outputId": "980050c8-4dc0-4635-d999-52f4b5c68e7b"
      },
      "source": [
        "generated_questions"
      ],
      "execution_count": 6,
      "outputs": [
        {
          "output_type": "execute_result",
          "data": {
            "text/plain": [
              "[['半人半魚の妖怪の名前は何ですか?'],\n",
              " ['アマビエは海中から何を予言すると言われていますか?'],\n",
              " ['江戸時代のどの国にアマビエが現れたのですか?'],\n",
              " ['諸国で豊作が続くが疫病も流行するのはどのくらいの期間ですか?'],\n",
              " ['瓦版に描かれたアマビエの絵は何ですか?'],\n",
              " ['海彦が初めて登場したのはいつですか?'],\n",
              " ['「海彦」には足がいくつありましたか?'],\n",
              " ['海彦は、その年の日本人口の何パーセントの死を予言したのだろうか']]"
            ]
          },
          "metadata": {
            "tags": []
          },
          "execution_count": 6
        }
      ]
    },
    {
      "cell_type": "markdown",
      "metadata": {
        "id": "hhlAf7iK_Wid"
      },
      "source": [
        "## 生成結果を確認してみる。"
      ]
    },
    {
      "cell_type": "code",
      "metadata": {
        "id": "_4iFILD8h5d1",
        "colab": {
          "base_uri": "https://localhost:8080/"
        },
        "outputId": "6ea09ac4-17e3-4c7c-cdbd-5fa39b7f67a8"
      },
      "source": [
        "import textwrap\n",
        "\n",
        "for (answer, context), questions in zip(answer_context_list, generated_questions):\n",
        "  print(f\"answer: {answer}\")\n",
        "  # print(\"\\n\".join(textwrap.wrap(f\"context: {context}\")))\n",
        "  for question in questions:\n",
        "    print(f\"  -> {question}\")\n",
        "  print()"
      ],
      "execution_count": 7,
      "outputs": [
        {
          "output_type": "stream",
          "text": [
            "answer: アマビエ\n",
            "  -> 半人半魚の妖怪の名前は何ですか?\n",
            "\n",
            "answer: 豊作や疫病など\n",
            "  -> アマビエは海中から何を予言すると言われていますか?\n",
            "\n",
            "answer: 肥後国（現・熊本県）\n",
            "  -> 江戸時代のどの国にアマビエが現れたのですか?\n",
            "\n",
            "answer: 当年より6ヶ年\n",
            "  -> 諸国で豊作が続くが疫病も流行するのはどのくらいの期間ですか?\n",
            "\n",
            "answer: 私の姿を描いた絵\n",
            "  -> 瓦版に描かれたアマビエの絵は何ですか?\n",
            "\n",
            "answer: 天保15年（1844年）\n",
            "  -> 海彦が初めて登場したのはいつですか?\n",
            "\n",
            "answer: 3本\n",
            "  -> 「海彦」には足がいくつありましたか?\n",
            "\n",
            "answer: 7割\n",
            "  -> 海彦は、その年の日本人口の何パーセントの死を予言したのだろうか\n",
            "\n"
          ],
          "name": "stdout"
        }
      ]
    },
    {
      "cell_type": "code",
      "metadata": {
        "id": "rwnUfboW-0zu"
      },
      "source": [
        ""
      ],
      "execution_count": 7,
      "outputs": []
    }
  ]
}